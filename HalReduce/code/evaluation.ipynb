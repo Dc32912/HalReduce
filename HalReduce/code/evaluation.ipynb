{
 "cells": [
  {
   "cell_type": "code",
   "id": "initial_id",
   "metadata": {
    "collapsed": true,
    "jupyter": {
     "is_executing": true
    },
    "ExecuteTime": {
     "start_time": "2025-08-22T16:28:07.996603Z"
    }
   },
   "source": [
    "import pandas as pd\n",
    "import json\n",
    "from sklearn.metrics import precision_score, recall_score, f1_score, accuracy_score\n",
    "\n",
    "files = [\n",
    "    \"outputs/agent_multi_results_1.jsonl\",\n",
    "    \"outputs/agent_multi_results_2.jsonl\",\n",
    "    \"outputs/agent_multi_results_3.jsonl\",\n",
    "    \"outputs/agent_multi_results_4.jsonl\",\n",
    "    \"outputs/agent_multi_results_5.jsonl\"\n",
    "]"
   ],
   "outputs": [],
   "execution_count": null
  },
  {
   "metadata": {
    "ExecuteTime": {
     "end_time": "2025-08-12T13:18:42.067571Z",
     "start_time": "2025-08-12T13:18:42.064023Z"
    }
   },
   "cell_type": "code",
   "source": [
    "def compute_metrics(file_path):\n",
    "    with open(file_path, \"r\", encoding=\"utf-8\") as f:\n",
    "        lines = [json.loads(line) for line in f]\n",
    "    df = pd.DataFrame(lines)\n",
    "\n",
    "    mapping = {\"Yes\": 1, \"No\": 0}\n",
    "    y_true = df[\"ground_truth\"].map(mapping)\n",
    "    y_pred = df[\"judgement\"].map(mapping)\n",
    "\n",
    "    precision = precision_score(y_true, y_pred, zero_division=0)\n",
    "    recall = recall_score(y_true, y_pred, zero_division=0)\n",
    "    f1 = f1_score(y_true, y_pred, zero_division=0)\n",
    "    accuracy = accuracy_score(y_true, y_pred)\n",
    "\n",
    "    return precision, recall, f1, accuracy"
   ],
   "id": "d6cdd9e097ae2a02",
   "outputs": [],
   "execution_count": 6
  },
  {
   "metadata": {
    "ExecuteTime": {
     "end_time": "2025-08-12T13:18:47.573133Z",
     "start_time": "2025-08-12T13:18:47.495579Z"
    }
   },
   "cell_type": "code",
   "source": [
    "all_metrics = []\n",
    "\n",
    "for file in files:\n",
    "    p, r, f, a = compute_metrics(file)\n",
    "    all_metrics.append([p, r, f, a])\n",
    "    print(f\"{file}: Precision={p:.4f}, Recall={r:.4f}, F1={f:.4f}, Accuracy={a:.4f}\")\n",
    "\n",
    "# compute avg\n",
    "avg_metrics = pd.DataFrame(all_metrics, columns=[\"Precision\", \"Recall\", \"F1\", \"Accuracy\"]).mean()\n",
    "print(\"\\nAvg:\")\n",
    "print(f\"Precision={avg_metrics['Precision']:.4f}, Recall={avg_metrics['Recall']:.4f}, F1={avg_metrics['F1']:.4f}, Accuracy={avg_metrics['Accuracy']:.4f}\")"
   ],
   "id": "340b2c936a53d71a",
   "outputs": [
    {
     "name": "stdout",
     "output_type": "stream",
     "text": [
      "outputs/agent_multi_results_1.jsonl: Precision=0.6759, Recall=0.7604, F1=0.7157, Accuracy=0.7100\n",
      "outputs/agent_multi_results_2.jsonl: Precision=0.6604, Recall=0.7527, F1=0.7035, Accuracy=0.7050\n",
      "outputs/agent_multi_results_3.jsonl: Precision=0.6525, Recall=0.8105, F1=0.7230, Accuracy=0.7050\n",
      "outputs/agent_multi_results_4.jsonl: Precision=0.6417, Recall=0.8370, F1=0.7264, Accuracy=0.7100\n",
      "outputs/agent_multi_results_5.jsonl: Precision=0.6897, Recall=0.7407, F1=0.7143, Accuracy=0.6800\n",
      "\n",
      "平均指标:\n",
      "Precision=0.6640, Recall=0.7803, F1=0.7166, Accuracy=0.7020\n"
     ]
    }
   ],
   "execution_count": 7
  }
 ],
 "metadata": {
  "kernelspec": {
   "display_name": "Python 3",
   "language": "python",
   "name": "python3"
  },
  "language_info": {
   "codemirror_mode": {
    "name": "ipython",
    "version": 2
   },
   "file_extension": ".py",
   "mimetype": "text/x-python",
   "name": "python",
   "nbconvert_exporter": "python",
   "pygments_lexer": "ipython2",
   "version": "2.7.6"
  }
 },
 "nbformat": 4,
 "nbformat_minor": 5
}
